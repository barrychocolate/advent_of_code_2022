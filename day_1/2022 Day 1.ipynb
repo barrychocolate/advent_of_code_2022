{
 "cells": [
  {
   "cell_type": "code",
   "execution_count": 1,
   "id": "ef1f8c9b",
   "metadata": {},
   "outputs": [],
   "source": [
    "# import regular expression library\n",
    "import re"
   ]
  },
  {
   "cell_type": "code",
   "execution_count": 18,
   "id": "1f70f8e3",
   "metadata": {},
   "outputs": [],
   "source": [
    "# Open the text file and split it into chunks by looking for two new lines\n",
    "# use a regular expresion to extract all numbers in a chunk into a list\n",
    "# Use map function to convert the strings into integers\n",
    "with open(\"day_1.txt\") as tfile:\n",
    "    calories = [list(map(int, re.findall('\\d+', chunk))) for chunk in tfile.read().split('\\n\\n')]"
   ]
  },
  {
   "cell_type": "code",
   "execution_count": 20,
   "id": "9befe10d",
   "metadata": {},
   "outputs": [
    {
     "name": "stdout",
     "output_type": "stream",
     "text": [
      "[[9057, 8878, 2753, 7027, 3880, 7154, 8022, 6710, 5721], [4863, 3690, 3333, 1831, 5293, 6258, 1212, 4255, 2331, 3785, 1505, 3355, 3353, 4416], [5918, 3076, 2145, 2712, 6087, 4310, 1084, 5807, 1342, 2770, 5095, 4696, 5842, 4555, 5388], [20770], [3968, 15647, 3933, 15427, 16179], [40721], [5837, 4419, 2159, 5173, 5215, 1991, 4842, 5642, 5435, 2853, 1055, 1667, 4361, 2316, 1974], [24315, 6376, 6153], [3142, 4989, 8864, 3819, 9260, 1273, 2773], [9320, 4936, 3707, 2103, 8804, 10586, 2018, 3779]]\n"
     ]
    }
   ],
   "source": [
    "# print first 10 to check\n",
    "print(calories[:10])"
   ]
  },
  {
   "cell_type": "code",
   "execution_count": 40,
   "id": "8ccc5fe4",
   "metadata": {},
   "outputs": [
    {
     "name": "stdout",
     "output_type": "stream",
     "text": [
      "The answer to part 1 is 69836\n"
     ]
    }
   ],
   "source": [
    "# use map to sum each list\n",
    "totcal = list(map(sum, calories))\n",
    "\n",
    "# sort the list in reverse order\n",
    "totcal = sorted(totcal, reverse=True)\n",
    "\n",
    "# find the elf with the highest number of calories (first item in the list)\n",
    "P1 =totcal[0]\n",
    "\n",
    "print(f'The answer to part 1 is {P1}')"
   ]
  },
  {
   "cell_type": "code",
   "execution_count": 42,
   "id": "47a3807e",
   "metadata": {},
   "outputs": [
    {
     "name": "stdout",
     "output_type": "stream",
     "text": [
      "The answer to part 2 is 207968\n"
     ]
    }
   ],
   "source": [
    "# find the total calories for the elfs with the 3 highest calories\n",
    "P2 = sum(totcal[0:3])\n",
    "print(f'The answer to part 2 is {P2}')"
   ]
  }
 ],
 "metadata": {
  "kernelspec": {
   "display_name": "Python 3 (ipykernel)",
   "language": "python",
   "name": "python3"
  },
  "language_info": {
   "codemirror_mode": {
    "name": "ipython",
    "version": 3
   },
   "file_extension": ".py",
   "mimetype": "text/x-python",
   "name": "python",
   "nbconvert_exporter": "python",
   "pygments_lexer": "ipython3",
   "version": "3.9.13"
  }
 },
 "nbformat": 4,
 "nbformat_minor": 5
}
