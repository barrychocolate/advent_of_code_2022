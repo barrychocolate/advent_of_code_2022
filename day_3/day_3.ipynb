{
 "cells": [
  {
   "cell_type": "code",
   "execution_count": 1,
   "id": "1919ddd0",
   "metadata": {},
   "outputs": [],
   "source": [
    "# import regular expression library\n",
    "import pandas as pd\n",
    "import numpy as np\n",
    "from numpy import genfromtxt"
   ]
  },
  {
   "cell_type": "code",
   "execution_count": 2,
   "id": "48339e2e",
   "metadata": {},
   "outputs": [],
   "source": [
    "#test data\n",
    "d = {'raw': ['vJrwpWtwJgWrhcsFMMfFFhFp', \n",
    "             'jqHRNqRjqzjGDLGLrsFMfFZSrLrFZsSL', \n",
    "             'PmmdzqPrVvPwwTWBwg',\n",
    "            'wMqvLMZHhHMvwLHjbvcjnnSBnvTQFn',\n",
    "            'ttgJtRGJQctTZtZT',\n",
    "            'CrZsJsPPZsGzwwsLwLmpwMDw']}\n",
    "\n",
    "data = pd.DataFrame(data=d)"
   ]
  },
  {
   "cell_type": "code",
   "execution_count": 3,
   "id": "600ad403",
   "metadata": {},
   "outputs": [],
   "source": [
    "# Load data\n",
    "data = pd.read_csv('day_3.txt', header=None, names=[\"raw\"])"
   ]
  },
  {
   "cell_type": "code",
   "execution_count": 4,
   "id": "294508bb",
   "metadata": {},
   "outputs": [],
   "source": [
    "# Split into two compartments\n",
    "data[\"comp1\"] = data['raw'].map(lambda x:x[0:len(x)//2])\n",
    "data[\"comp2\"] = data['raw'].map(lambda x:x[len(x)//2:])"
   ]
  },
  {
   "cell_type": "code",
   "execution_count": 5,
   "id": "e1818fb7",
   "metadata": {},
   "outputs": [
    {
     "name": "stdout",
     "output_type": "stream",
     "text": [
      "p\n",
      "r\n",
      "Z\n"
     ]
    }
   ],
   "source": [
    "def find_duplicate(comp1, comp2, comp3=set()):\n",
    "    # convert strings to sets\n",
    "    scomp1 = set(comp1)\n",
    "    scomp2 = set(comp2)\n",
    "\n",
    "    # check if third parameter was provided\n",
    "    if len(comp3):\n",
    "        scomp3 = set(comp3)\n",
    "        # return the character from the intersection i.e the letter they have in common\n",
    "        return (scomp1 & scomp2 & scomp3).pop()\n",
    "    else:\n",
    "        # only 2 comps provided\n",
    "        return (scomp1 & scomp2).pop()\n",
    "\n",
    "# Test\n",
    "print(find_duplicate(\"vJrwpWtwJgWr\", \"hcsFMMfFFhFp\")) # 'p'\n",
    "print(find_duplicate (\"vJrwpWtwJgWrhcsFMMfFFhFp\", \"jqHRNqRjqzjGDLGLrsFMfFZSrLrFZsSL\", \"PmmdzqPrVvPwwTWBwg\")) # 'r'\n",
    "print(find_duplicate (\"wMqvLMZHhHMvwLHjbvcjnnSBnvTQFn\", \"ttgJtRGJQctTZtZT\", \"CrZsJsPPZsGzwwsLwLmpwMDw\")) # 'Z'"
   ]
  },
  {
   "cell_type": "code",
   "execution_count": 6,
   "id": "1611afc6",
   "metadata": {},
   "outputs": [
    {
     "name": "stdout",
     "output_type": "stream",
     "text": [
      "1\n",
      "26\n",
      "27\n",
      "52\n"
     ]
    }
   ],
   "source": [
    "def get_score(elf_char):\n",
    "    if ord(elf_char) > 90:\n",
    "        #is lower case\n",
    "        return (ord(elf_char) - 96)\n",
    "    else:\n",
    "        # is uppercase\n",
    "        return (ord(elf_char) - 38)\n",
    "\n",
    "# Test\n",
    "print(get_score(\"a\"))\n",
    "print(get_score(\"z\"))\n",
    "print(get_score(\"A\"))\n",
    "print(get_score(\"Z\"))"
   ]
  },
  {
   "cell_type": "code",
   "execution_count": 7,
   "id": "33ab6fc7",
   "metadata": {},
   "outputs": [],
   "source": [
    "# Find the duplicate letter\n",
    "data['dupe'] = data.apply(lambda x: find_duplicate(comp1 = x['comp1'], comp2 = x['comp2']), axis=1)"
   ]
  },
  {
   "cell_type": "code",
   "execution_count": 8,
   "id": "35034bd1",
   "metadata": {},
   "outputs": [],
   "source": [
    "# Get the score of the letter\n",
    "data['score'] = data.apply(lambda x: get_score(elf_char = x['dupe']), axis=1)"
   ]
  },
  {
   "cell_type": "code",
   "execution_count": 9,
   "id": "cc3ea08e",
   "metadata": {},
   "outputs": [
    {
     "name": "stdout",
     "output_type": "stream",
     "text": [
      "The answer to part 1 is 8202\n"
     ]
    }
   ],
   "source": [
    "P1= data['score'].sum()\n",
    "print(f'The answer to part 1 is {P1}')"
   ]
  },
  {
   "cell_type": "markdown",
   "id": "41f58741",
   "metadata": {},
   "source": [
    "# Part 2"
   ]
  },
  {
   "cell_type": "code",
   "execution_count": 10,
   "id": "1aec97fa",
   "metadata": {},
   "outputs": [],
   "source": [
    "# Test data\n",
    "# data2 = [\"vJrwpWtwJgWrhcsFMMfFFhFp\",\n",
    "#         \"jqHRNqRjqzjGDLGLrsFMfFZSrLrFZsSL\",\n",
    "#         \"PmmdzqPrVvPwwTWBwg\",\n",
    "#         \"wMqvLMZHhHMvwLHjbvcjnnSBnvTQFn\",\n",
    "#         \"ttgJtRGJQctTZtZT\",\n",
    "#         \"CrZsJsPPZsGzwwsLwLmpwMDw\"]\n",
    "\n",
    "# Read the data into a list\n",
    "text_file = open(\"day_3.txt\", \"r\")\n",
    "data2 = [x.strip() for x in text_file.readlines()]\n",
    "text_file.close()"
   ]
  },
  {
   "cell_type": "code",
   "execution_count": 11,
   "id": "072e0600",
   "metadata": {},
   "outputs": [],
   "source": [
    "# Reshape the list to 3 x 100\n",
    "data2 = np.reshape(data2, (len(data2)//3,3))\n",
    "\n",
    "# Convert to dataframe\n",
    "data2 = pd.DataFrame(data2, columns = ['elf1','elf2','elf3'])"
   ]
  },
  {
   "cell_type": "code",
   "execution_count": 12,
   "id": "f1ed3e43",
   "metadata": {},
   "outputs": [],
   "source": [
    "data2['dupe'] = data2.apply(lambda x: find_duplicate(comp1 = x['elf1'], comp2 = x['elf2'], comp3 = x['elf3']), axis=1)"
   ]
  },
  {
   "cell_type": "code",
   "execution_count": 13,
   "id": "2506223f",
   "metadata": {},
   "outputs": [],
   "source": [
    "# Get the score of the letter\n",
    "data2['score'] = data2.apply(lambda x: get_score(elf_char = x['dupe']), axis=1)"
   ]
  },
  {
   "cell_type": "code",
   "execution_count": 14,
   "id": "24480510",
   "metadata": {},
   "outputs": [
    {
     "name": "stdout",
     "output_type": "stream",
     "text": [
      "The answer to part 2 is 2864\n"
     ]
    }
   ],
   "source": [
    "P2= data2['score'].sum()\n",
    "print(f'The answer to part 2 is {P2}')"
   ]
  },
  {
   "cell_type": "code",
   "execution_count": null,
   "id": "42218461",
   "metadata": {},
   "outputs": [],
   "source": []
  }
 ],
 "metadata": {
  "kernelspec": {
   "display_name": "Python 3 (ipykernel)",
   "language": "python",
   "name": "python3"
  },
  "language_info": {
   "codemirror_mode": {
    "name": "ipython",
    "version": 3
   },
   "file_extension": ".py",
   "mimetype": "text/x-python",
   "name": "python",
   "nbconvert_exporter": "python",
   "pygments_lexer": "ipython3",
   "version": "3.9.13"
  }
 },
 "nbformat": 4,
 "nbformat_minor": 5
}
