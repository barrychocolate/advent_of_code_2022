{
 "cells": [
  {
   "cell_type": "code",
   "execution_count": 1,
   "id": "5f2d9600",
   "metadata": {},
   "outputs": [],
   "source": [
    "import pandas as pd"
   ]
  },
  {
   "cell_type": "code",
   "execution_count": 2,
   "id": "5a9afca2",
   "metadata": {},
   "outputs": [],
   "source": [
    "#test data       \n",
    "#d = {'one': [\"2-4\", \"2-3\", \"5-7\", \"2-8\", \"6-6\", \"2-6\"], 'two': [\"6-8\", \"4-5\", \"7-9\", \"3-7\", \"4-6\", \"4-8\"]}\n",
    "#data = pd.DataFrame(data=d)"
   ]
  },
  {
   "cell_type": "code",
   "execution_count": 3,
   "id": "12678636",
   "metadata": {},
   "outputs": [],
   "source": [
    "# data = pd.read_csv('day_4.txt', header = None, names = [\"one\", \"two\"])\n",
    "# data[\"s1\"] = data[\"one\"].map(lambda x: str.split(x, \"-\")[0]).astype(int)\n",
    "# data[\"e1\"] = data[\"one\"].map(lambda x: str.split(x, \"-\")[1]).astype(int)\n",
    "# data[\"s2\"] = data[\"two\"].map(lambda x: str.split(x, \"-\")[0]).astype(int)\n",
    "# data[\"e2\"] = data[\"two\"].map(lambda x: str.split(x, \"-\")[1]).astype(int)\n",
    "\n",
    "# Replaced with this alternative method\n",
    "data = pd.read_fwf('day_4.txt', header= None, names = [\"raw\"])  # Load data\n",
    "data = data[\"raw\"].str.split(expand=True, pat = ',|-') # Split by multiple delimiters\n",
    "data.columns = [\"s1\", \"e1\", \"s2\", \"e2\"] # rename columns\n",
    "data = data.apply(pd.to_numeric) # convert all columns to numeric"
   ]
  },
  {
   "cell_type": "code",
   "execution_count": 4,
   "id": "0dca4225",
   "metadata": {},
   "outputs": [],
   "source": [
    "def find_overlap(start1,end1, start2, end2):\n",
    "    range1 = set(range(start1, end1+1))\n",
    "    range2 = set(range(start2, end2+1))\n",
    "    return (range1.issubset(range2) or range2.issubset(range1))"
   ]
  },
  {
   "cell_type": "code",
   "execution_count": 5,
   "id": "37250cdf",
   "metadata": {},
   "outputs": [],
   "source": [
    "data['overlap'] = data.apply(lambda x: find_overlap(x['s1'], x['e1'], x['s2'], x['e2']), axis=1)"
   ]
  },
  {
   "cell_type": "code",
   "execution_count": 6,
   "id": "6a45cc18",
   "metadata": {},
   "outputs": [
    {
     "name": "stdout",
     "output_type": "stream",
     "text": [
      "The answer to part 1 is 498\n"
     ]
    }
   ],
   "source": [
    "P1= data['overlap'].sum()\n",
    "print(f'The answer to part 1 is {P1}')"
   ]
  },
  {
   "cell_type": "markdown",
   "id": "c4b43165",
   "metadata": {},
   "source": [
    "# Part 2"
   ]
  },
  {
   "cell_type": "code",
   "execution_count": 7,
   "id": "4186fd40",
   "metadata": {},
   "outputs": [],
   "source": [
    "def count_overlap(start1,end1, start2, end2):\n",
    "    range1 = set(range(start1, end1+1))\n",
    "    range2 = set(range(start2, end2+1))\n",
    "    return  len(range1 & range2)>0"
   ]
  },
  {
   "cell_type": "code",
   "execution_count": 8,
   "id": "51555b01",
   "metadata": {},
   "outputs": [],
   "source": [
    "data['overlap_count'] = data.apply(lambda x: count_overlap(x['s1'], x['e1'], x['s2'], x['e2']), axis=1)"
   ]
  },
  {
   "cell_type": "code",
   "execution_count": 9,
   "id": "55578996",
   "metadata": {},
   "outputs": [
    {
     "name": "stdout",
     "output_type": "stream",
     "text": [
      "The answer to part 2 is 859\n"
     ]
    }
   ],
   "source": [
    "P2= data['overlap_count'].sum()\n",
    "print(f'The answer to part 2 is {P2}')"
   ]
  },
  {
   "cell_type": "code",
   "execution_count": null,
   "id": "7c1f2129",
   "metadata": {},
   "outputs": [],
   "source": []
  }
 ],
 "metadata": {
  "kernelspec": {
   "display_name": "Python 3 (ipykernel)",
   "language": "python",
   "name": "python3"
  },
  "language_info": {
   "codemirror_mode": {
    "name": "ipython",
    "version": 3
   },
   "file_extension": ".py",
   "mimetype": "text/x-python",
   "name": "python",
   "nbconvert_exporter": "python",
   "pygments_lexer": "ipython3",
   "version": "3.9.13"
  }
 },
 "nbformat": 4,
 "nbformat_minor": 5
}
