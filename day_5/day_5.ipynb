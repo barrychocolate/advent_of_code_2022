{
 "cells": [
  {
   "cell_type": "code",
   "execution_count": 2,
   "id": "3ec3c09a",
   "metadata": {},
   "outputs": [],
   "source": [
    "# import regular expression library\n",
    "import re"
   ]
  },
  {
   "cell_type": "code",
   "execution_count": 17,
   "id": "03ab6d19",
   "metadata": {},
   "outputs": [],
   "source": [
    "def loaddata(path):\n",
    "    # Load data and split by empty row \n",
    "    (stacks, moves) = open(path).read().split(\"\\n\\n\")\n",
    "\n",
    "    # Extract all numeric values into a list\n",
    "    moves = [list(map(int, re.findall('\\d+', chunk))) for chunk in moves.split('\\n')]\n",
    "\n",
    "    # split stacks into rows\n",
    "    stacks = stacks.split(\"\\n\")[:-1]\n",
    "\n",
    "    # Extract crates into a list of stacks\n",
    "    stacks = [\n",
    "        # for every column, start at bottom and add items to a list\n",
    "        # Start at character 1 and move along 4 to get only the characters\n",
    "        [level[i] for level in reversed(stacks) if level[i] != ' '] for i in range(1, len(stacks[0]), 4) ]\n",
    "    return stacks, moves"
   ]
  },
  {
   "cell_type": "code",
   "execution_count": 18,
   "id": "5ad6f604",
   "metadata": {},
   "outputs": [
    {
     "name": "stdout",
     "output_type": "stream",
     "text": [
      "[1, 5, 2]\n",
      "[7, 7, 1]\n",
      "[1, 1, 7]\n",
      "[1, 4, 1]\n",
      "[7, 9, 1]\n",
      "['Z', 'T', 'F', 'R', 'W', 'J', 'G']\n",
      "['G', 'W', 'M']\n",
      "['J', 'N', 'H', 'G']\n",
      "['J', 'R', 'C', 'N', 'W']\n",
      "['W', 'F', 'S', 'B', 'G', 'Q', 'V', 'M']\n",
      "['S', 'R', 'T', 'D', 'V', 'W', 'C']\n",
      "['H', 'B', 'N', 'C', 'D', 'Z', 'G', 'V']\n",
      "['S', 'J', 'N', 'M', 'G', 'C']\n",
      "['G', 'P', 'N', 'W', 'C', 'J', 'D', 'L']\n"
     ]
    }
   ],
   "source": [
    "#stacks, moves = loaddata('day_5_test.txt')\n",
    "stacks, moves = loaddata('day_5.txt')\n",
    "\n",
    "# view first 5 steps\n",
    "print(*moves[0:5], sep='\\n')\n",
    "\n",
    "# view stacks\n",
    "print(*stacks,sep='\\n')"
   ]
  },
  {
   "cell_type": "code",
   "execution_count": 19,
   "id": "a21c238e",
   "metadata": {},
   "outputs": [],
   "source": [
    "def make_move(amount, from_stack, tostack, part1=True):\n",
    "    if part1:\n",
    "        # Part 1, move one at a time\n",
    "        for i in range (amount):\n",
    "            stacks[tostack-1].extend(stacks[from_stack-1].pop())\n",
    "    else:\n",
    "        # Part 2, move as a stack\n",
    "        stacks[tostack-1].extend(stacks[from_stack-1][-amount:])\n",
    "        stacks[from_stack-1]=stacks[from_stack-1][0:-amount]"
   ]
  },
  {
   "cell_type": "code",
   "execution_count": 20,
   "id": "a43e6b8b",
   "metadata": {},
   "outputs": [],
   "source": [
    "for row in range(len(moves)):\n",
    "        make_move(moves[row][0], moves[row][1], moves[row][2])"
   ]
  },
  {
   "cell_type": "code",
   "execution_count": 21,
   "id": "e87ae69b",
   "metadata": {},
   "outputs": [
    {
     "name": "stdout",
     "output_type": "stream",
     "text": [
      "The answer to part 1 is CWMTGHBDW\n"
     ]
    }
   ],
   "source": [
    "P1 = ''.join([item[-1] for item in stacks])\n",
    "print(f'The answer to part 1 is {P1}')"
   ]
  },
  {
   "cell_type": "markdown",
   "id": "16bacbb9",
   "metadata": {},
   "source": [
    "# Part 2"
   ]
  },
  {
   "cell_type": "code",
   "execution_count": 23,
   "id": "9b9b760f",
   "metadata": {},
   "outputs": [],
   "source": [
    "stacks, moves = loaddata('day_5.txt')\n",
    "\n",
    "for row in range(len(moves)):\n",
    "        make_move(moves[row][0], moves[row][1], moves[row][2], False)"
   ]
  },
  {
   "cell_type": "code",
   "execution_count": 24,
   "id": "cd549536",
   "metadata": {},
   "outputs": [
    {
     "name": "stdout",
     "output_type": "stream",
     "text": [
      "The answer to part 2 is SSCGWJCRB\n"
     ]
    }
   ],
   "source": [
    "P2 = ''.join([item[-1] for item in stacks])\n",
    "print(f'The answer to part 2 is {P2}')"
   ]
  },
  {
   "cell_type": "code",
   "execution_count": null,
   "id": "7f19df4a",
   "metadata": {},
   "outputs": [],
   "source": []
  }
 ],
 "metadata": {
  "kernelspec": {
   "display_name": "Python 3 (ipykernel)",
   "language": "python",
   "name": "python3"
  },
  "language_info": {
   "codemirror_mode": {
    "name": "ipython",
    "version": 3
   },
   "file_extension": ".py",
   "mimetype": "text/x-python",
   "name": "python",
   "nbconvert_exporter": "python",
   "pygments_lexer": "ipython3",
   "version": "3.9.13"
  }
 },
 "nbformat": 4,
 "nbformat_minor": 5
}
