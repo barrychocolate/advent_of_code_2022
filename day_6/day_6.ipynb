{
 "cells": [
  {
   "cell_type": "code",
   "execution_count": 27,
   "id": "22846bf7",
   "metadata": {},
   "outputs": [],
   "source": [
    "def loaddata(path):\n",
    "    with open(path) as f:\n",
    "        return f.read().rstrip()"
   ]
  },
  {
   "cell_type": "code",
   "execution_count": 49,
   "id": "2dbf2129",
   "metadata": {},
   "outputs": [],
   "source": [
    "#data = loaddata('day_6_test.txt')\n",
    "data = loaddata('day_6.txt')"
   ]
  },
  {
   "cell_type": "code",
   "execution_count": 50,
   "id": "f1c0e15b",
   "metadata": {},
   "outputs": [
    {
     "name": "stdout",
     "output_type": "stream",
     "text": [
      "The answer to part 1 is 1155\n"
     ]
    }
   ],
   "source": [
    "for i in range (len(data)-3):\n",
    "    if len(set(data[i:i+4]))==4:\n",
    "        print(f'The answer to part 1 is {i+4}')\n",
    "        break"
   ]
  },
  {
   "cell_type": "markdown",
   "id": "6bde02e8",
   "metadata": {},
   "source": [
    "# Part 2"
   ]
  },
  {
   "cell_type": "code",
   "execution_count": 51,
   "id": "fcf08cde",
   "metadata": {},
   "outputs": [
    {
     "name": "stdout",
     "output_type": "stream",
     "text": [
      "The answer to part 2 is 2789\n"
     ]
    }
   ],
   "source": [
    "for i in range (len(data)-13):\n",
    "    if len(set(data[i:i+14]))==14:\n",
    "        print(f'The answer to part 2 is {i+14}')\n",
    "        break"
   ]
  },
  {
   "cell_type": "code",
   "execution_count": null,
   "id": "0223f808",
   "metadata": {},
   "outputs": [],
   "source": []
  }
 ],
 "metadata": {
  "kernelspec": {
   "display_name": "Python 3 (ipykernel)",
   "language": "python",
   "name": "python3"
  },
  "language_info": {
   "codemirror_mode": {
    "name": "ipython",
    "version": 3
   },
   "file_extension": ".py",
   "mimetype": "text/x-python",
   "name": "python",
   "nbconvert_exporter": "python",
   "pygments_lexer": "ipython3",
   "version": "3.9.13"
  }
 },
 "nbformat": 4,
 "nbformat_minor": 5
}
