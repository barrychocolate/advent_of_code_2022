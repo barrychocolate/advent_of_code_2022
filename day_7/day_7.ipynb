{
 "cells": [
  {
   "cell_type": "code",
   "execution_count": 1,
   "id": "13f81d18",
   "metadata": {},
   "outputs": [],
   "source": [
    "def loaddata(path):\n",
    "    # Split into rows by \\n, then into lists (by spaces) stripping \\n\n",
    "    return [x.split(' ') for x in\n",
    "            list(open(path).read().rstrip().split('\\n'))]"
   ]
  },
  {
   "cell_type": "code",
   "execution_count": 2,
   "id": "4df93193",
   "metadata": {},
   "outputs": [],
   "source": [
    "# data = loaddata('day_7_test.txt')\n",
    "data = loaddata('day_7.txt')\n",
    "# data[:25] # view first 25 (all of test)"
   ]
  },
  {
   "cell_type": "code",
   "execution_count": 3,
   "id": "3e9a8476",
   "metadata": {},
   "outputs": [],
   "source": [
    "current_directory = '/'  # A string for the current directory\n",
    "parent_directories = []  # A list for storing the parent directories\n",
    "directory_size = {}  # Dictionary for storing the name and size of directories\n",
    "\n",
    "\n",
    "def change_directory(directory):\n",
    "    global current_directory\n",
    "    if directory == '..':\n",
    "        # move to parent directory\n",
    "        current_directory = parent_directories.pop()\n",
    "    else:\n",
    "        if directory == '/':\n",
    "            # move to root\n",
    "            current_directory = '/'\n",
    "            parent_directories.clear()\n",
    "        else:\n",
    "            # move to subfolder\n",
    "            parent_directories.append(current_directory)\n",
    "            current_directory = current_directory + '/' + directory\n",
    "\n",
    "            \n",
    "def update_directory_size(file_size, directory):\n",
    "    if directory in directory_size:\n",
    "        # Directory exists in dictionary so add file size to current directory size\n",
    "        directory_size[directory] = directory_size[directory] + int(file_size)\n",
    "    else:\n",
    "        # Directory doesn't exist so create it in dictionary\n",
    "        directory_size[directory] = int(file_size)\n",
    "\n",
    "\n",
    "def process_console_code(command):\n",
    "    if command[1] == 'cd':\n",
    "        # change directory - pass it the directory name\n",
    "        change_directory(command[2])\n",
    "    elif command[0].isdigit():\n",
    "        # is a file so update directory size - pass file size and current directory\n",
    "        update_directory_size(command[0], current_directory)\n",
    "        \n",
    "        # increase all parent directory sizes too\n",
    "        for dir in parent_directories:\n",
    "            update_directory_size(command[0], dir)\n"
   ]
  },
  {
   "cell_type": "code",
   "execution_count": 4,
   "id": "86daa605",
   "metadata": {},
   "outputs": [],
   "source": [
    "# Running through line by line to check dictionaries and lists are updated correctly\n",
    "# row=21\n",
    "\n",
    "# print(f'cur dir = {current_directory}')\n",
    "# print(f'dir size = {directory_size}')\n",
    "# print(f'parent directories = {parent_directories}')\n",
    "# print('\\n')\n",
    "# print(f'processing row {row} {data[row]}')\n",
    "# print('\\n')\n",
    "# process_console_code(data[row])\n",
    "# print(f'cur dir = {current_directory}')\n",
    "# print(f'dir size = {directory_size}')\n",
    "# print(f'parent directories = {parent_directories}')"
   ]
  },
  {
   "cell_type": "code",
   "execution_count": 5,
   "id": "b328366a",
   "metadata": {},
   "outputs": [],
   "source": [
    "for code in data[1:]:\n",
    "    process_console_code(code)"
   ]
  },
  {
   "cell_type": "code",
   "execution_count": 6,
   "id": "ae48ad6c",
   "metadata": {},
   "outputs": [
    {
     "name": "stdout",
     "output_type": "stream",
     "text": [
      "The answer to part 1 is 1490523\n"
     ]
    }
   ],
   "source": [
    "# Get the sume of all directories <= 100000\n",
    "P1 = sum(list(filter(lambda size: size <= 100000, directory_size.values())))\n",
    "print(f'The answer to part 1 is {P1}')"
   ]
  },
  {
   "cell_type": "markdown",
   "id": "b7caa74d",
   "metadata": {},
   "source": [
    "# Part 2"
   ]
  },
  {
   "cell_type": "code",
   "execution_count": 7,
   "id": "50402912",
   "metadata": {},
   "outputs": [],
   "source": [
    "disc_space = 70000000\n",
    "update_space = 30000000\n",
    "root_size = int(list(directory_size.values())[0])\n",
    "space_needed = update_space - (disc_space - root_size)\n",
    "\n",
    "# Find smallest directory that has the space needed\n",
    "P2 = min(list(filter(lambda size: size >= space_needed, directory_size.values())))"
   ]
  },
  {
   "cell_type": "code",
   "execution_count": 8,
   "id": "3bd336ae",
   "metadata": {},
   "outputs": [
    {
     "name": "stdout",
     "output_type": "stream",
     "text": [
      "The answer to part 2 is 12390492\n"
     ]
    }
   ],
   "source": [
    "print(f'The answer to part 2 is {P2}')"
   ]
  },
  {
   "cell_type": "code",
   "execution_count": null,
   "id": "f062a11c",
   "metadata": {},
   "outputs": [],
   "source": []
  }
 ],
 "metadata": {
  "kernelspec": {
   "display_name": "Python 3 (ipykernel)",
   "language": "python",
   "name": "python3"
  },
  "language_info": {
   "codemirror_mode": {
    "name": "ipython",
    "version": 3
   },
   "file_extension": ".py",
   "mimetype": "text/x-python",
   "name": "python",
   "nbconvert_exporter": "python",
   "pygments_lexer": "ipython3",
   "version": "3.9.13"
  }
 },
 "nbformat": 4,
 "nbformat_minor": 5
}
