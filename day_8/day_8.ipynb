{
 "cells": [
  {
   "cell_type": "code",
   "execution_count": 1,
   "id": "c2e850c2",
   "metadata": {},
   "outputs": [],
   "source": [
    "import numpy as np"
   ]
  },
  {
   "cell_type": "code",
   "execution_count": 2,
   "id": "ef226f36",
   "metadata": {},
   "outputs": [],
   "source": [
    "def loaddata(path):\n",
    "    with open(path) as f:\n",
    "        forest = [[int(i) for i in line] for line in f.read().splitlines()]\n",
    "    return np.array(forest)"
   ]
  },
  {
   "cell_type": "code",
   "execution_count": 3,
   "id": "b85d67df",
   "metadata": {},
   "outputs": [],
   "source": [
    "#data = loaddata('day_8_test.txt')\n",
    "data = loaddata('day_8.txt')"
   ]
  },
  {
   "cell_type": "code",
   "execution_count": 5,
   "id": "3caa2c75",
   "metadata": {},
   "outputs": [],
   "source": [
    "forest_w = len(data)\n",
    "forest_h = len(data[0])\n",
    "\n",
    "def is_visible(row, col):\n",
    "    return any([\n",
    "                     all([(data[row][col] > data[row][c]) for c in range(0,   col)]),\n",
    "                     all([(data[row][col] > data[row][c]) for c in range(col+1, forest_w)]),\n",
    "                     all([(data[row][col] > data[r][col]) for r in range(0,   row)]),\n",
    "                     all([(data[row][col] > data[r][col]) for r in range(row+1, forest_h)])\n",
    "                  ])\n",
    "    \n",
    "def count_visability(data):\n",
    "    permimeter = 2 * forest_w + 2 * forest_h - 4\n",
    "    visiblecount = permimeter\n",
    "\n",
    "    # loop through all trees except the permiter\n",
    "    for row in range(1, forest_w - 1):\n",
    "        for col in range(1, forest_h - 1):\n",
    "            visiblecount += is_visible(row, col)\n",
    "            \n",
    "    return visiblecount"
   ]
  },
  {
   "cell_type": "code",
   "execution_count": 6,
   "id": "6b0d7e86",
   "metadata": {},
   "outputs": [],
   "source": [
    "def calc_scenic(row, col):\n",
    "    up=0\n",
    "    down=0\n",
    "    left=0\n",
    "    right = 0\n",
    "    \n",
    "    # Check to the left\n",
    "    for left in range (col-1, -1, -1):\n",
    "        if data[row][left] >= data[row][col]:\n",
    "            break\n",
    "            \n",
    "    left = col - left\n",
    "    \n",
    "    # check to the right\n",
    "    for right in range (col+1, forest_w):\n",
    "        if data[row][right] >= data[row][col]:\n",
    "            break            \n",
    "\n",
    "    right = right - col\n",
    "    \n",
    "    # check up\n",
    "    for up in range (row-1, -1, -1):\n",
    "        if data[up][col] >= data[row][col]:\n",
    "            break                        \n",
    "\n",
    "    up = row - up\n",
    "    \n",
    "    # check down\n",
    "    for down in range (row+1, forest_h):\n",
    "        if data[down][col] >= data[row][col]:\n",
    "            break \n",
    "            \n",
    "    down = down - row\n",
    "    \n",
    "    return (up * down * left * right)\n",
    "    \n",
    "def count_scenic(data):\n",
    "    scenic = 0\n",
    "    # loop through all trees except the permiter\n",
    "    for row in range(1, forest_w - 1):\n",
    "        for col in range(1, forest_h - 1):\n",
    "            scenic=max(scenic, calc_scenic(row, col))\n",
    "    return scenic"
   ]
  },
  {
   "cell_type": "code",
   "execution_count": 7,
   "id": "fcc0fb3c",
   "metadata": {},
   "outputs": [
    {
     "name": "stdout",
     "output_type": "stream",
     "text": [
      "The answer to part 1 is 1717\n"
     ]
    }
   ],
   "source": [
    "P1 = count_visability(data)\n",
    "print(f'The answer to part 1 is {P1}')"
   ]
  },
  {
   "cell_type": "code",
   "execution_count": 8,
   "id": "f524570b",
   "metadata": {},
   "outputs": [
    {
     "name": "stdout",
     "output_type": "stream",
     "text": [
      "The answer to part 2 is 321975\n"
     ]
    }
   ],
   "source": [
    "P2 = count_scenic(data)\n",
    "print(f'The answer to part 2 is {P2}')"
   ]
  }
 ],
 "metadata": {
  "kernelspec": {
   "display_name": "Python 3 (ipykernel)",
   "language": "python",
   "name": "python3"
  },
  "language_info": {
   "codemirror_mode": {
    "name": "ipython",
    "version": 3
   },
   "file_extension": ".py",
   "mimetype": "text/x-python",
   "name": "python",
   "nbconvert_exporter": "python",
   "pygments_lexer": "ipython3",
   "version": "3.9.13"
  }
 },
 "nbformat": 4,
 "nbformat_minor": 5
}
